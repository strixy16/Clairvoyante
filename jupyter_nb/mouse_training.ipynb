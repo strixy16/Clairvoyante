{
 "cells": [
  {
   "cell_type": "markdown",
   "metadata": {},
   "source": [
    "# Clairvoyante (Model Training Demo)\n"
   ]
  },
  {
   "cell_type": "code",
   "execution_count": 1,
   "metadata": {},
   "outputs": [
    {
     "name": "stdout",
     "output_type": "stream",
     "text": [
      "Populating the interactive namespace from numpy and matplotlib\n"
     ]
    }
   ],
   "source": [
    "%matplotlib inline\n",
    "%pylab inline\n",
    "import sys\n",
    "sys.path.append('../')\n",
    "import numpy as np\n",
    "import time\n",
    "import pickle\n",
    "from random import randrange"
   ]
  },
  {
   "cell_type": "code",
   "execution_count": 7,
   "metadata": {},
   "outputs": [],
   "source": [
    "#import clairvoyante\n",
    "import clairvoyante.utils_v2 as utils\n",
    "import clairvoyante.clairvoyante_v3 as cv\n",
    "import clairvoyante.param as param"
   ]
  },
  {
   "cell_type": "markdown",
   "metadata": {},
   "source": [
    "Please run prepDataBeforeDemo.sh to generate training and testing data from BAM and VCF files before proceeding.\n",
    "\n",
    "References:\n",
    "1. The GIAB v3.3.2 NA12878 truth variant dataset is available at ftp://ftp-trace.ncbi.nlm.nih.gov/giab/ftp/release/NA12878_HG001/NISTv3.3.2/GRCh38\n",
    "2. The Illumina alignment is available at ftp://ftp-trace.ncbi.nlm.nih.gov/giab/ftp/data/NA12878/NIST_NA12878_HG001_HiSeq_300x/, the chr21.bam and chr22.bam were extracted from the HG001.GRCh38_full_plus_hs38d1_analysis_set_minus_alts.300x.bam file, downsampled to 50x.\n",
    "\n",
    "#### prepDataBeforeDemo.sh:\n",
    "```\n",
    "mkdir ../training\n",
    "python ../dataPrepScripts/ExtractVariantCandidates.py --bam_fn ../testingData/chr21/chr21.bam --ref_fn ../testingData/chr21/chr21.fa --can_fn ../training/can_chr21 --ctgName chr21 --ctgStart 10269870 --ctgEnd 46672937 &\n",
    "python ../dataPrepScripts/GetTruth.py --vcf_fn ../testingData/chr21/chr21.vcf --var_fn ../training/var_chr21 --ctgName chr21 &\n",
    "python ../dataPrepScripts/ExtractVariantCandidates.py --bam_fn ../testingData/chr22/chr22.bam --ref_fn ../testingData/chr22/chr22.fa --can_fn ../training/can_chr22 --ctgName chr22 --ctgStart 18924717 --ctgEnd 49973797 &\n",
    "python ../dataPrepScripts/GetTruth.py --vcf_fn ../testingData/chr22/chr22.vcf --var_fn ../training/var_chr22 --ctgName chr22 &\n",
    "wait\n",
    "\n",
    "python ../dataPrepScripts/CreateTensor.py --bam_fn ../testingData/chr21/chr21.bam --can_fn ../training/can_chr21 --ref_fn ../testingData/chr21/chr21.fa --tensor_fn ../training/tensor_can_chr21 --ctgName chr21 --ctgStart 10269870 --ctgEnd 46672937 &\n",
    "python ../dataPrepScripts/CreateTensor.py --bam_fn ../testingData/chr22/chr22.bam --can_fn ../training/can_chr22 --ref_fn ../testingData/chr22/chr22.fa --tensor_fn ../training/tensor_can_chr22 --ctgName chr22 --ctgStart 18924717 --ctgEnd 49973797 &\n",
    "python ../dataPrepScripts/CreateTensor.py --bam_fn ../testingData/chr21/chr21.bam --can_fn ../training/var_chr21 --ref_fn ../testingData/chr21/chr21.fa --tensor_fn ../training/tensor_var_chr21 --ctgName chr21 --ctgStart 10269870 --ctgEnd 46672937 &\n",
    "python ../dataPrepScripts/CreateTensor.py --bam_fn ../testingData/chr22/chr22.bam --can_fn ../training/var_chr22 --ref_fn ../testingData/chr22/chr22.fa --tensor_fn ../training/tensor_var_chr22 --ctgName chr22 --ctgStart 18924717 --ctgEnd 49973797 &\n",
    "wait\n",
    "\n",
    "cat ../training/var_chr21 ../training/var_chr22 > ../training/var_mul\n",
    "cat ../training/tensor_can_chr21 ../training/tensor_can_chr22 > ../training/tensor_can_mul\n",
    "cat ../training/tensor_var_chr21 ../training/tensor_var_chr22 > ../training/tensor_var_mul\n",
    "cat ../testingData/chr21/chr21.bed ../testingData/chr22/chr22.bed > ../training/bed\n",
    "python ../dataPrepScripts/PairWithNonVariants.py --tensor_can_fn ../training/tensor_can_mul --tensor_var_fn ../training/tensor_var_mul --bed_fn ../training/bed --amp 2 --output_fn ../training/tensor_mix\n",
    "python ../clairvoyante/tensor2Bin.py --tensor_fn ../training/tensor_mix --var_fn ../training/var_mul --bed_fn ../training/bed --bin_fn ../training/tensor.bin\n",
    "```"
   ]
  },
  {
   "cell_type": "markdown",
   "metadata": {},
   "source": [
    "## Train using the chr21+chr22 variants"
   ]
  },
  {
   "cell_type": "code",
   "execution_count": 3,
   "metadata": {},
   "outputs": [],
   "source": [
    "# Load the preprocessed and compressed tensors into memory\n",
    "with open(\"../training/tensor.bin\", \"rb\") as fh:\n",
    "    total = pickle.load(fh)\n",
    "    XArrayCompressed = pickle.load(fh)\n",
    "    YArrayCompressed = pickle.load(fh)\n",
    "    posArrayCompressed = pickle.load(fh)"
   ]
  },
  {
   "cell_type": "code",
   "execution_count": 4,
   "metadata": {},
   "outputs": [
    {
     "name": "stderr",
     "output_type": "stream",
     "text": [
      "The size of training dataset: 248887\n"
     ]
    }
   ],
   "source": [
    "print >> sys.stderr, \"The size of training dataset: {}\".format(total)"
   ]
  },
  {
   "cell_type": "code",
   "execution_count": 5,
   "metadata": {
    "collapsed": true
   },
   "outputs": [],
   "source": [
    "# Pick a random candidate\n",
    "i = randrange(total)\n",
    "XArray, _, _ = utils.DecompressArray(XArrayCompressed, i, 1, total)"
   ]
  },
  {
   "cell_type": "code",
   "execution_count": 6,
   "metadata": {},
   "outputs": [
    {
     "data": {
      "text/plain": [
       "<matplotlib.colorbar.Colorbar at 0x7efea9074a90>"
      ]
     },
     "execution_count": 6,
     "metadata": {},
     "output_type": "execute_result"
    },
    {
     "data": {
      "image/png": "[encoded data removed]",
      "text/plain": [
       "<Figure size 1080x144 with 2 Axes>"
      ]
     },
     "metadata": {
      "needs_background": "light"
     },
     "output_type": "display_data"
    },
    {
     "data": {
      "image/png": "[encoded data removed]",
      "text/plain": [
       "<Figure size 1080x144 with 2 Axes>"
      ]
     },
     "metadata": {
      "needs_background": "light"
     },
     "output_type": "display_data"
    },
    {
     "data": {
      "image/png": "[encoded data removed]",
      "text/plain": [
       "<Figure size 1080x144 with 2 Axes>"
      ]
     },
     "metadata": {
      "needs_background": "light"
     },
     "output_type": "display_data"
    },
    {
     "data": {
      "image/png": "[encoded data removed]",
      "text/plain": [
       "<Figure size 1080x144 with 2 Axes>"
      ]
     },
     "metadata": {
      "needs_background": "light"
     },
     "output_type": "display_data"
    }
   ],
   "source": [
    "# Show how the four matrices are like\n",
    "figure(figsize=(15, 2)); matshow(XArray[0,:,:,0].transpose(), vmin=0, vmax=50, cmap=cm.hot, fignum=0); colorbar()\n",
    "figure(figsize=(15, 2)); matshow(XArray[0,:,:,1].transpose(), vmin=-50, vmax=50, cmap=cm.bwr, fignum=0); colorbar()\n",
    "figure(figsize=(15, 2)); matshow(XArray[0,:,:,2].transpose(), vmin=-50, vmax=50, cmap=cm.bwr, fignum=0); colorbar()\n",
    "figure(figsize=(15, 2)); matshow(XArray[0,:,:,3].transpose(), vmin=-50, vmax=50, cmap=cm.bwr, fignum=0); colorbar()"
   ]
  },
  {
   "cell_type": "code",
   "execution_count": 7,
   "metadata": {},
   "outputs": [],
   "source": [
    "# create a Clairvoyante network\n",
    "m = cv.Clairvoyante()\n",
    "m.init()"
   ]
  },
  {
   "cell_type": "code",
   "execution_count": 8,
   "metadata": {},
   "outputs": [
    {
     "name": "stderr",
     "output_type": "stream",
     "text": [
      "Start at learning rate: 1.00e-03\n",
      "Number of variants for validation: 14610\n",
      "15 Training losses: 1.70555898438 Validation losses:  2.86578702515 Epoch time elapsed: 109.32 s\n",
      "29 Training losses: 1.27158730469 Validation losses:  1.9025668688 Epoch time elapsed: 102.01 s\n",
      "43 Training losses: 0.94647421875 Validation losses:  1.49416228183 Epoch time elapsed: 119.56 s\n",
      "57 Training losses: 0.838849804688 Validation losses:  1.32779453285 Epoch time elapsed: 98.15 s\n",
      "71 Training losses: 0.78824296875 Validation losses:  1.25689663009 Epoch time elapsed: 99.68 s\n",
      "85 Training losses: 0.746244921875 Validation losses:  1.16895988407 Epoch time elapsed: 98.87 s\n",
      "99 Training losses: 0.674336572266 Validation losses:  1.06129042608 Epoch time elapsed: 97.80 s\n",
      "113 Training losses: 0.621658886719 Validation losses:  0.979990896111 Epoch time elapsed: 96.54 s\n",
      "127 Training losses: 0.57723359375 Validation losses:  0.903877441072 Epoch time elapsed: 95.09 s\n",
      "141 Training losses: 0.532607226563 Validation losses:  0.832688441136 Epoch time elapsed: 96.33 s\n",
      "155 Training losses: 0.489828515625 Validation losses:  0.769632582563 Epoch time elapsed: 97.49 s\n",
      "169 Training losses: 0.382640527344 Validation losses:  0.595765956537 Epoch time elapsed: 97.86 s\n",
      "183 Training losses: 0.329427661133 Validation losses:  0.512321398015 Epoch time elapsed: 103.27 s\n",
      "197 Training losses: 0.288889208984 Validation losses:  0.454110251968 Epoch time elapsed: 99.11 s\n",
      "211 Training losses: 0.2623125 Validation losses:  0.413422420431 Epoch time elapsed: 94.69 s\n",
      "225 Training losses: 0.242267993164 Validation losses:  0.383976654742 Epoch time elapsed: 95.50 s\n",
      "239 Training losses: 0.223020458984 Validation losses:  0.358929597932 Epoch time elapsed: 97.70 s\n",
      "253 Training losses: 0.213174145508 Validation losses:  0.338172531389 Epoch time elapsed: 96.50 s\n",
      "267 Training losses: 0.1965765625 Validation losses:  0.320836575173 Epoch time elapsed: 100.14 s\n",
      "281 Training losses: 0.184861303711 Validation losses:  0.30279179233 Epoch time elapsed: 100.23 s\n",
      "295 Training losses: 0.177095275879 Validation losses:  0.291610452494 Epoch time elapsed: 98.10 s\n",
      "309 Training losses: 0.169203161621 Validation losses:  0.282858587601 Epoch time elapsed: 101.59 s\n",
      "323 Training losses: 0.166075219727 Validation losses:  0.27441665263 Epoch time elapsed: 106.10 s\n",
      "337 Training losses: 0.159673510742 Validation losses:  0.266452070232 Epoch time elapsed: 99.18 s\n",
      "351 Training losses: 0.155212097168 Validation losses:  0.256780826221 Epoch time elapsed: 97.15 s\n",
      "365 Training losses: 0.14927421875 Validation losses:  0.252791775619 Epoch time elapsed: 102.94 s\n",
      "379 Training losses: 0.146782800293 Validation losses:  0.24963856827 Epoch time elapsed: 100.75 s\n",
      "393 Training losses: 0.14432635498 Validation losses:  0.243952531443 Epoch time elapsed: 97.07 s\n",
      "407 Training losses: 0.142329492187 Validation losses:  0.241113047303 Epoch time elapsed: 101.68 s\n",
      "421 Training losses: 0.140613623047 Validation losses:  0.236838330446 Epoch time elapsed: 100.47 s\n",
      "435 Training losses: 0.139267822266 Validation losses:  0.236510486851 Epoch time elapsed: 95.77 s\n",
      "449 Training losses: 0.13962767334 Validation losses:  0.234496702681 Epoch time elapsed: 99.19 s\n",
      "463 Training losses: 0.140282421875 Validation losses:  0.240240123417 Epoch time elapsed: 98.41 s\n",
      "477 Training losses: 0.138424609375 Validation losses:  0.251750643689 Epoch time elapsed: 100.20 s\n",
      "491 Training losses: 0.135444067383 Validation losses:  0.231995171998 Epoch time elapsed: 93.43 s\n",
      "505 Training losses: 0.0754252075195 Validation losses:  0.157788620674 Epoch time elapsed: 92.97 s\n",
      "519 Training losses: 0.0598834777832 Validation losses:  0.107885717122 Epoch time elapsed: 92.94 s\n",
      "533 Training losses: 0.0551065307617 Validation losses:  0.102799880219 Epoch time elapsed: 93.06 s\n",
      "547 Training losses: 0.0539594665527 Validation losses:  0.102596078777 Epoch time elapsed: 92.99 s\n",
      "561 Training losses: 0.0504635559082 Validation losses:  0.104294401844 Epoch time elapsed: 93.68 s\n",
      "575 Training losses: 0.0521062561035 Validation losses:  0.0915101142063 Epoch time elapsed: 94.38 s\n",
      "589 Training losses: 0.0508316589355 Validation losses:  0.0921913350632 Epoch time elapsed: 93.49 s\n",
      "New learning rate: 1.00e-04\n",
      "603 Training losses: 0.0474031311035 Validation losses:  0.0892164205542 Epoch time elapsed: 93.42 s\n",
      "617 Training losses: 0.0469039794922 Validation losses:  0.0889600478322 Epoch time elapsed: 93.06 s\n",
      "631 Training losses: 0.0478592041016 Validation losses:  0.0874033463809 Epoch time elapsed: 93.06 s\n",
      "645 Training losses: 0.0459013183594 Validation losses:  0.0873373147807 Epoch time elapsed: 93.21 s\n",
      "659 Training losses: 0.0456765960693 Validation losses:  0.0872303006422 Epoch time elapsed: 96.25 s\n",
      "673 Training losses: 0.0470223602295 Validation losses:  0.0869193012465 Epoch time elapsed: 95.58 s\n",
      "687 Training losses: 0.0472450592041 Validation losses:  0.0868264994011 Epoch time elapsed: 92.38 s\n",
      "701 Training losses: 0.0456697387695 Validation losses:  0.0866410293945 Epoch time elapsed: 92.66 s\n",
      "715 Training losses: 0.0459040222168 Validation losses:  0.0861607441259 Epoch time elapsed: 98.27 s\n",
      "729 Training losses: 0.0465084228516 Validation losses:  0.0862227986236 Epoch time elapsed: 98.69 s\n",
      "743 Training losses: 0.0455869628906 Validation losses:  0.0858400526314 Epoch time elapsed: 97.73 s\n",
      "757 Training losses: 0.0481125396729 Validation losses:  0.0855261623166 Epoch time elapsed: 98.05 s\n",
      "771 Training losses: 0.0456691925049 Validation losses:  0.0856178111364 Epoch time elapsed: 95.95 s\n",
      "785 Training losses: 0.0465422424316 Validation losses:  0.0856983140427 Epoch time elapsed: 97.33 s\n",
      "799 Training losses: 0.0463778442383 Validation losses:  0.0854066236471 Epoch time elapsed: 96.13 s\n",
      "813 Training losses: 0.0448128295898 Validation losses:  0.0852469045442 Epoch time elapsed: 95.94 s\n",
      "827 Training losses: 0.0450259155273 Validation losses:  0.0853748402475 Epoch time elapsed: 94.85 s\n",
      "841 Training losses: 0.0446811035156 Validation losses:  0.0851755924212 Epoch time elapsed: 99.98 s\n",
      "855 Training losses: 0.0455649841309 Validation losses:  0.0847659842761 Epoch time elapsed: 96.70 s\n",
      "869 Training losses: 0.0453685028076 Validation losses:  0.0845681568436 Epoch time elapsed: 95.28 s\n",
      "883 Training losses: 0.0437907806396 Validation losses:  0.0844808276919 Epoch time elapsed: 93.54 s\n",
      "897 Training losses: 0.0454359710693 Validation losses:  0.0844779200622 Epoch time elapsed: 94.54 s\n",
      "911 Training losses: 0.0443062957764 Validation losses:  0.0840706263235 Epoch time elapsed: 94.16 s\n",
      "925 Training losses: 0.0445116210938 Validation losses:  0.0840580182399 Epoch time elapsed: 93.00 s\n",
      "939 Training losses: 0.0442934631348 Validation losses:  0.0838081542635 Epoch time elapsed: 93.21 s\n",
      "953 Training losses: 0.0435638244629 Validation losses:  0.0834287336638 Epoch time elapsed: 93.68 s\n",
      "967 Training losses: 0.0437523468018 Validation losses:  0.0834026067735 Epoch time elapsed: 96.92 s\n",
      "981 Training losses: 0.0438318939209 Validation losses:  0.0833325145181 Epoch time elapsed: 94.59 s\n",
      "995 Training losses: 0.0432991851807 Validation losses:  0.0831536702307 Epoch time elapsed: 95.99 s\n",
      "1009 Training losses: 0.0431695892334 Validation losses:  0.0831988554634 Epoch time elapsed: 96.36 s\n",
      "1023 Training losses: 0.0439254211426 Validation losses:  0.0831144924281 Epoch time elapsed: 98.93 s\n",
      "1037 Training losses: 0.0428566070557 Validation losses:  0.0828347584061 Epoch time elapsed: 94.69 s\n",
      "1051 Training losses: 0.0432912841797 Validation losses:  0.0825057450751 Epoch time elapsed: 97.09 s\n",
      "1065 Training losses: 0.0420438262939 Validation losses:  0.0821590854402 Epoch time elapsed: 96.53 s\n",
      "1079 Training losses: 0.041990512085 Validation losses:  0.0823386984113 Epoch time elapsed: 94.31 s\n",
      "1093 Training losses: 0.0432323638916 Validation losses:  0.0818562240653 Epoch time elapsed: 94.36 s\n",
      "1107 Training losses: 0.0425392059326 Validation losses:  0.0818891855562 Epoch time elapsed: 94.85 s\n",
      "New learning rate: 1.00e-05\n",
      "1121 Training losses: 0.0434528167725 Validation losses:  0.0816644458392 Epoch time elapsed: 94.56 s\n",
      "1135 Training losses: 0.04305128479 Validation losses:  0.0816408422367 Epoch time elapsed: 96.65 s\n",
      "1149 Training losses: 0.0427451538086 Validation losses:  0.0816557145951 Epoch time elapsed: 94.92 s\n",
      "1163 Training losses: 0.0422665466309 Validation losses:  0.0815601555147 Epoch time elapsed: 93.62 s\n",
      "1177 Training losses: 0.0430677429199 Validation losses:  0.0815354907945 Epoch time elapsed: 95.08 s\n",
      "1191 Training losses: 0.0419689239502 Validation losses:  0.0814568427554 Epoch time elapsed: 94.73 s\n",
      "1205 Training losses: 0.0423561279297 Validation losses:  0.0812504428286 Epoch time elapsed: 95.41 s\n",
      "1219 Training losses: 0.0408115783691 Validation losses:  0.0807917893218 Epoch time elapsed: 95.85 s\n",
      "1233 Training losses: 0.0410392974854 Validation losses:  0.0799218649737 Epoch time elapsed: 95.49 s\n",
      "1247 Training losses: 0.0396908294678 Validation losses:  0.0789405733979 Epoch time elapsed: 98.09 s\n",
      "1261 Training losses: 0.0394878112793 Validation losses:  0.0781150238225 Epoch time elapsed: 94.25 s\n",
      "1275 Training losses: 0.0401160339355 Validation losses:  0.0774952558848 Epoch time elapsed: 93.89 s\n",
      "1289 Training losses: 0.0391147216797 Validation losses:  0.0768158146978 Epoch time elapsed: 93.35 s\n",
      "1303 Training losses: 0.0394322509766 Validation losses:  0.0763298979856 Epoch time elapsed: 94.17 s\n",
      "1317 Training losses: 0.0381475769043 Validation losses:  0.0760089140572 Epoch time elapsed: 96.42 s\n",
      "1331 Training losses: 0.0389382446289 Validation losses:  0.0757255789191 Epoch time elapsed: 94.43 s\n",
      "1345 Training losses: 0.0371235168457 Validation losses:  0.0755378195719 Epoch time elapsed: 97.91 s\n",
      "1359 Training losses: 0.0387121154785 Validation losses:  0.0752974221023 Epoch time elapsed: 94.16 s\n",
      "1373 Training losses: 0.0385836364746 Validation losses:  0.0751401427345 Epoch time elapsed: 95.26 s\n",
      "1387 Training losses: 0.0382609100342 Validation losses:  0.0750581943687 Epoch time elapsed: 94.85 s\n",
      "1401 Training losses: 0.0376214599609 Validation losses:  0.074957563647 Epoch time elapsed: 95.19 s\n",
      "1415 Training losses: 0.0382958312988 Validation losses:  0.0749212099215 Epoch time elapsed: 94.09 s\n",
      "1429 Training losses: 0.0372870300293 Validation losses:  0.0748719055468 Epoch time elapsed: 94.49 s\n",
      "1443 Training losses: 0.0363140686035 Validation losses:  0.0747969171105 Epoch time elapsed: 94.21 s\n",
      "1457 Training losses: 0.0377204986572 Validation losses:  0.0746800771892 Epoch time elapsed: 95.10 s\n",
      "1471 Training losses: 0.0371889709473 Validation losses:  0.0745836073858 Epoch time elapsed: 94.43 s\n",
      "1485 Training losses: 0.0371978485107 Validation losses:  0.074547245305 Epoch time elapsed: 93.47 s\n",
      "1499 Training losses: 0.0374955871582 Validation losses:  0.0745122952628 Epoch time elapsed: 94.65 s\n",
      "1513 Training losses: 0.0363008728027 Validation losses:  0.0744566659581 Epoch time elapsed: 94.92 s\n",
      "1527 Training losses: 0.0389807342529 Validation losses:  0.0744615537838 Epoch time elapsed: 98.47 s\n",
      "1541 Training losses: 0.0354793395996 Validation losses:  0.0744175299319 Epoch time elapsed: 94.14 s\n",
      "1555 Training losses: 0.0372474761963 Validation losses:  0.0743963409988 Epoch time elapsed: 96.30 s\n",
      "1569 Training losses: 0.0367022949219 Validation losses:  0.0744000340226 Epoch time elapsed: 93.97 s\n",
      "1583 Training losses: 0.0370487792969 Validation losses:  0.0743296242674 Epoch time elapsed: 94.06 s\n",
      "1597 Training losses: 0.0369749511719 Validation losses:  0.074284739824 Epoch time elapsed: 94.21 s\n",
      "1611 Training losses: 0.0362696716309 Validation losses:  0.0741721443735 Epoch time elapsed: 96.54 s\n",
      "1625 Training losses: 0.0370461029053 Validation losses:  0.0741508885983 Epoch time elapsed: 97.74 s\n",
      "1639 Training losses: 0.0374394470215 Validation losses:  0.0741963411993 Epoch time elapsed: 95.37 s\n",
      "1653 Training losses: 0.0372968688965 Validation losses:  0.0740752735177 Epoch time elapsed: 97.79 s\n",
      "1667 Training losses: 0.0374612548828 Validation losses:  0.0740412258433 Epoch time elapsed: 96.00 s\n",
      "1681 Training losses: 0.0381150665283 Validation losses:  0.073960204911 Epoch time elapsed: 95.24 s\n",
      "1695 Training losses: 0.0379638885498 Validation losses:  0.0739164484273 Epoch time elapsed: 93.56 s\n",
      "1709 Training losses: 0.0371260437012 Validation losses:  0.0738495645908 Epoch time elapsed: 97.00 s\n",
      "1723 Training losses: 0.0371900909424 Validation losses:  0.0738664923426 Epoch time elapsed: 95.48 s\n",
      "1737 Training losses: 0.0372555786133 Validation losses:  0.073909430011 Epoch time elapsed: 97.60 s\n",
      "1751 Training losses: 0.0372163085937 Validation losses:  0.0737985306778 Epoch time elapsed: 98.81 s\n",
      "1765 Training losses: 0.0370940795898 Validation losses:  0.073751231565 Epoch time elapsed: 99.73 s\n",
      "1779 Training losses: 0.0364057769775 Validation losses:  0.0737345294052 Epoch time elapsed: 95.62 s\n",
      "1793 Training losses: 0.0367382049561 Validation losses:  0.073758241626 Epoch time elapsed: 98.72 s\n",
      "1807 Training losses: 0.0378655944824 Validation losses:  0.0737911446302 Epoch time elapsed: 102.11 s\n",
      "1821 Training losses: 0.0363852539062 Validation losses:  0.0737643576745 Epoch time elapsed: 95.77 s\n",
      "1835 Training losses: 0.0362507324219 Validation losses:  0.073700523507 Epoch time elapsed: 94.65 s\n",
      "1849 Training losses: 0.0366369659424 Validation losses:  0.073699938639 Epoch time elapsed: 97.78 s\n",
      "1863 Training losses: 0.0368920776367 Validation losses:  0.073602833836 Epoch time elapsed: 99.80 s\n",
      "1877 Training losses: 0.036525012207 Validation losses:  0.0735323071072 Epoch time elapsed: 97.29 s\n",
      "1891 Training losses: 0.0364148834229 Validation losses:  0.0736337065126 Epoch time elapsed: 94.90 s\n",
      "1905 Training losses: 0.0369777832031 Validation losses:  0.0736063848204 Epoch time elapsed: 93.69 s\n",
      "1919 Training losses: 0.0363360290527 Validation losses:  0.073507450216 Epoch time elapsed: 94.40 s\n",
      "1933 Training losses: 0.0362112182617 Validation losses:  0.0734813400363 Epoch time elapsed: 96.09 s\n",
      "1947 Training losses: 0.0382296813965 Validation losses:  0.0734242234958 Epoch time elapsed: 94.90 s\n",
      "1961 Training losses: 0.0356797149658 Validation losses:  0.0733547161084 Epoch time elapsed: 95.81 s\n",
      "1975 Training losses: 0.0354673065186 Validation losses:  0.0733399356578 Epoch time elapsed: 97.20 s\n",
      "1989 Training losses: 0.037498739624 Validation losses:  0.0733852462194 Epoch time elapsed: 94.86 s\n",
      "2003 Training losses: 0.0351043701172 Validation losses:  0.0732544028865 Epoch time elapsed: 99.33 s\n",
      "2017 Training losses: 0.0362867919922 Validation losses:  0.0732375753978 Epoch time elapsed: 93.91 s\n",
      "2031 Training losses: 0.0362385498047 Validation losses:  0.0731801914891 Epoch time elapsed: 97.93 s\n",
      "2045 Training losses: 0.0360729553223 Validation losses:  0.0731893739172 Epoch time elapsed: 93.96 s\n",
      "2059 Training losses: 0.0352610321045 Validation losses:  0.0731939525983 Epoch time elapsed: 96.71 s\n",
      "2073 Training losses: 0.035978024292 Validation losses:  0.0731610328836 Epoch time elapsed: 94.92 s\n",
      "2087 Training losses: 0.0356953765869 Validation losses:  0.0731397019111 Epoch time elapsed: 100.61 s\n",
      "2101 Training losses: 0.0349841308594 Validation losses:  0.0731714853108 Epoch time elapsed: 94.32 s\n",
      "2115 Training losses: 0.0362160339355 Validation losses:  0.0731215208708 Epoch time elapsed: 95.19 s\n",
      "2129 Training losses: 0.0352806335449 Validation losses:  0.0730695511689 Epoch time elapsed: 94.52 s\n",
      "2143 Training losses: 0.0351743988037 Validation losses:  0.073042430003 Epoch time elapsed: 95.09 s\n",
      "2157 Training losses: 0.0363091918945 Validation losses:  0.0729709925511 Epoch time elapsed: 94.90 s\n",
      "2171 Training losses: 0.0367853088379 Validation losses:  0.0729574152576 Epoch time elapsed: 94.13 s\n",
      "2185 Training losses: 0.0356081481934 Validation losses:  0.0730287942227 Epoch time elapsed: 94.34 s\n",
      "2199 Training losses: 0.0369738464355 Validation losses:  0.0729772339285 Epoch time elapsed: 94.08 s\n",
      "2213 Training losses: 0.0363772094727 Validation losses:  0.0728780486664 Epoch time elapsed: 93.97 s\n",
      "2227 Training losses: 0.0355940673828 Validation losses:  0.0728812737958 Epoch time elapsed: 93.99 s\n",
      "2241 Training losses: 0.0365031982422 Validation losses:  0.072832454026 Epoch time elapsed: 93.94 s\n",
      "2255 Training losses: 0.0368247833252 Validation losses:  0.0728132035127 Epoch time elapsed: 93.74 s\n",
      "2269 Training losses: 0.0367408996582 Validation losses:  0.072873495051 Epoch time elapsed: 98.87 s\n",
      "2283 Training losses: 0.0355644744873 Validation losses:  0.0728092932522 Epoch time elapsed: 98.29 s\n",
      "2297 Training losses: 0.036083706665 Validation losses:  0.0727693634764 Epoch time elapsed: 93.51 s\n",
      "2311 Training losses: 0.0362999908447 Validation losses:  0.072751149015 Epoch time elapsed: 97.55 s\n",
      "2325 Training losses: 0.0356309143066 Validation losses:  0.072636297645 Epoch time elapsed: 97.54 s\n",
      "2339 Training losses: 0.0344932250977 Validation losses:  0.0726252352841 Epoch time elapsed: 97.51 s\n",
      "2353 Training losses: 0.03576015625 Validation losses:  0.0726845325467 Epoch time elapsed: 1706.90 s\n",
      "2367 Training losses: 0.0354051727295 Validation losses:  0.0726273073879 Epoch time elapsed: 104.49 s\n",
      "2381 Training losses: 0.0362286376953 Validation losses:  0.0726584056564 Epoch time elapsed: 98.86 s\n",
      "Training time elapsed: 18005.08 s\n"
     ]
    }
   ],
   "source": [
    "# training the model. The code train on all variants and validate on the first 10% variant sites\n",
    "trainingStart = time.time()\n",
    "trainBatchSize = param.trainBatchSize\n",
    "validationLosses = []\n",
    "numValItems = int(len(XArray) * 0.1 + 0.499)\n",
    "print >> sys.stderr, \"Start at learning rate: %.2e\" % m.setLearningRate(0.001)\n",
    "c = 0; maxLearningRateSwitch = 2\n",
    "epochStart = time.time()\n",
    "datasetPtr = 0\n",
    "numValItems = int(total * 0.1 + 0.499)\n",
    "valXArray, _, _ = utils.DecompressArray(XArrayCompressed, 0, numValItems, total)\n",
    "valYArray, _, _ = utils.DecompressArray(YArrayCompressed, 0, numValItems, total)\n",
    "print >> sys.stderr, \"Number of variants for validation: %d\" % len(valXArray)\n",
    "i = 1\n",
    "while i < (1 + int(param.maxEpoch * total / trainBatchSize + 0.499)):\n",
    "    XBatch, _, endFlag = utils.DecompressArray(XArrayCompressed, datasetPtr, trainBatchSize, total)\n",
    "    YBatch, _, _ = utils.DecompressArray(YArrayCompressed, datasetPtr, trainBatchSize, total)\n",
    "    loss, _ = m.train(XBatch, YBatch)\n",
    "    if endFlag != 0:\n",
    "        validationLoss = m.getLoss( valXArray, valYArray )\n",
    "        print >> sys.stderr, \" \".join([str(i),\\\n",
    "                                       \"Training losses:\", str(loss/trainBatchSize),\\\n",
    "                                       \"Validation losses: \", str(validationLoss/numValItems),\\\n",
    "                                       \"Epoch time elapsed: %.2f s\" % (time.time() - epochStart)])\n",
    "        validationLosses.append( (validationLoss, i) )\n",
    "        c += 1\n",
    "        flag = 0\n",
    "        if c >= 5:\n",
    "            if validationLosses[-5][0] - validationLosses[-4][0] < 0:\n",
    "                if validationLosses[-4][0] - validationLosses[-3][0] > 0:\n",
    "                    if validationLosses[-3][0] - validationLosses[-2][0] < 0:\n",
    "                        if validationLosses[-2][0] - validationLosses[-1][0] > 0:\n",
    "                            flag = 1\n",
    "            elif validationLosses[-5][0] - validationLosses[-4][0] > 0:\n",
    "                if validationLosses[-4][0] - validationLosses[-3][0] < 0:\n",
    "                    if validationLosses[-3][0] - validationLosses[-2][0] > 0:\n",
    "                        if validationLosses[-2][0] - validationLosses[-1][0] < 0:\n",
    "                            flag = 1\n",
    "            else: flag = 1\n",
    "        if flag == 1:\n",
    "            maxLearningRateSwitch -= 1\n",
    "            if maxLearningRateSwitch == 0: break\n",
    "            print >> sys.stderr, \"New learning rate: %.2e\" % m.setLearningRate()\n",
    "            c = 0\n",
    "        epochStart = time.time()\n",
    "        datasetPtr = 0\n",
    "    i += 1\n",
    "    datasetPtr += trainBatchSize\n",
    "\n",
    "print >> sys.stderr, \"Training time elapsed: %.2f s\" % (time.time() - trainingStart)"
   ]
  },
  {
   "cell_type": "markdown",
   "metadata": {},
   "source": [
    "## Testing on the training dataset"
   ]
  },
  {
   "cell_type": "code",
   "execution_count": 9,
   "metadata": {},
   "outputs": [
    {
     "name": "stderr",
     "output_type": "stream",
     "text": [
      "Prediciton time elapsed: 33.41 s\n",
      "Version 2 model, evaluation on base change:\n",
      "all/top1/top2/top1p/top2p: 146101/117687/140101/80.55/95.89\n",
      "Version 2 model, evaluation on Zygosity:\n",
      "58980\t408\n",
      "340\t86373\n",
      "Version 2 model, evaluation on variant type:\n",
      "54227\t129\t5\t2\n",
      "136\t78065\t13\t2\n",
      "10\t20\t6680\t4\n",
      "23\t3\t11\t6771\n",
      "Version 2 model, evaluation on indel length:\n",
      "132572\t3\t3\t0\t1\t0\n",
      "22\t7405\t18\t4\t4\t13\n",
      "13\t19\t2180\t1\t5\t16\n",
      "9\t5\t7\t812\t8\t1\n",
      "4\t1\t5\t2\t1197\t14\n",
      "15\t7\t2\t3\t3\t1727\n"
     ]
    }
   ],
   "source": [
    "predictStart = time.time()\n",
    "predictBatchSize = param.predictBatchSize\n",
    "datasetPtr = 0\n",
    "XBatch, _, _ = utils.DecompressArray(XArrayCompressed, datasetPtr, predictBatchSize, total)\n",
    "bases = []; zs = []; ts = []; ls = []\n",
    "base, z, t, l = m.predict(XBatch)\n",
    "bases.append(base); zs.append(z); ts.append(t); ls.append(l)\n",
    "datasetPtr += predictBatchSize\n",
    "while datasetPtr < total:\n",
    "    XBatch, _, endFlag = utils.DecompressArray(XArrayCompressed, datasetPtr, predictBatchSize, total)\n",
    "    base, z, t, l = m.predict(XBatch)\n",
    "    bases.append(base); zs.append(z); ts.append(t); ls.append(l)\n",
    "    datasetPtr += predictBatchSize\n",
    "    if endFlag != 0:\n",
    "        break\n",
    "bases = np.concatenate(bases[:]); zs = np.concatenate(zs[:]); ts = np.concatenate(ts[:]); ls = np.concatenate(ls[:])\n",
    "print >> sys.stderr, \"Prediciton time elapsed: %.2f s\" % (time.time() - predictStart)\n",
    "\n",
    "# Evaluate the trained model\n",
    "YArray, _, _ = utils.DecompressArray(YArrayCompressed, 0, total, total)\n",
    "print >> sys.stderr, \"Version 2 model, evaluation on base change:\"\n",
    "allBaseCount = top1Count = top2Count = 0\n",
    "for predictV, annotateV in zip(bases, YArray[:,0:4]):\n",
    "    allBaseCount += 1\n",
    "    sortPredictV = predictV.argsort()[::-1]\n",
    "    if np.argmax(annotateV) == sortPredictV[0]: top1Count += 1; top2Count += 1\n",
    "    elif np.argmax(annotateV) == sortPredictV[1]: top2Count += 1\n",
    "print >> sys.stderr, \"all/top1/top2/top1p/top2p: %d/%d/%d/%.2f/%.2f\" %\\\n",
    "            (allBaseCount, top1Count, top2Count, float(top1Count)/allBaseCount*100, float(top2Count)/allBaseCount*100)\n",
    "print >> sys.stderr, \"Version 2 model, evaluation on Zygosity:\"\n",
    "ed = np.zeros( (2,2), dtype=np.int )\n",
    "for predictV, annotateV in zip(zs, YArray[:,4:6]):\n",
    "    ed[np.argmax(annotateV)][np.argmax(predictV)] += 1\n",
    "for i in range(2):\n",
    "    print >> sys.stderr, \"\\t\".join([str(ed[i][j]) for j in range(2)])\n",
    "print >> sys.stderr, \"Version 2 model, evaluation on variant type:\"\n",
    "ed = np.zeros( (4,4), dtype=np.int )\n",
    "for predictV, annotateV in zip(ts, YArray[:,6:10]):\n",
    "    ed[np.argmax(annotateV)][np.argmax(predictV)] += 1\n",
    "for i in range(4):\n",
    "    print >> sys.stderr, \"\\t\".join([str(ed[i][j]) for j in range(4)])\n",
    "print >> sys.stderr, \"Version 2 model, evaluation on indel length:\"\n",
    "ed = np.zeros( (6,6), dtype=np.int )\n",
    "for predictV, annotateV in zip(ls, YArray[:,10:16]):\n",
    "    ed[np.argmax(annotateV)][np.argmax(predictV)] += 1\n",
    "for i in range(6):\n",
    "    print >> sys.stderr, \"\\t\".join([str(ed[i][j]) for j in range(6)])"
   ]
  },
  {
   "cell_type": "markdown",
   "metadata": {},
   "source": [
    "## Testing on the chr22 variants"
   ]
  },
  {
   "cell_type": "code",
   "execution_count": 10,
   "metadata": {},
   "outputs": [],
   "source": [
    "total, XArrayCompressed, YArrayCompressed, posArrayCompressed = \\\n",
    "utils.GetTrainingArray(\"../training/tensor_can_chr22\",\n",
    "                       \"../training/var_chr22\",\n",
    "                       \"../training/bed\")\n",
    "YArray, _, _ = utils.DecompressArray(YArrayCompressed, 0, total, total)"
   ]
  },
  {
   "cell_type": "code",
   "execution_count": 11,
   "metadata": {},
   "outputs": [
    {
     "name": "stderr",
     "output_type": "stream",
     "text": [
      "Testing on the training and validation dataset ...\n",
      "Prediciton time elapsed: 15.78 s\n",
      "Version 2 model, evaluation on base change:\n",
      "all/top1/top2/top1p/top2p: 69761/60487/69536/86.71/99.68\n",
      "Version 2 model, evaluation on Zygosity:\n",
      "23809\t103\n",
      "86\t45763\n",
      "Version 2 model, evaluation on variant type:\n",
      "35143\t79\t2\t1\n",
      "72\t34366\t4\t0\n",
      "1\t9\t62\t0\n",
      "1\t3\t0\t18\n",
      "Version 2 model, evaluation on indel length:\n",
      "69664\t2\t1\t0\t0\t0\n",
      "3\t51\t0\t0\t0\t0\n",
      "4\t1\t12\t0\t0\t0\n",
      "2\t0\t0\t5\t0\t0\n",
      "3\t0\t0\t0\t2\t0\n",
      "3\t0\t0\t0\t0\t8\n"
     ]
    }
   ],
   "source": [
    "print >> sys.stderr, \"Testing on the training and validation dataset ...\"\n",
    "predictStart = time.time()\n",
    "predictBatchSize = param.predictBatchSize\n",
    "datasetPtr = 0\n",
    "XBatch, _, _ = utils.DecompressArray(XArrayCompressed, datasetPtr, predictBatchSize, total)\n",
    "bases = []; zs = []; ts = []; ls = []\n",
    "base, z, t, l = m.predict(XBatch)\n",
    "bases.append(base); zs.append(z); ts.append(t); ls.append(l)\n",
    "datasetPtr += predictBatchSize\n",
    "while datasetPtr < total:\n",
    "    XBatch, _, endFlag = utils.DecompressArray(XArrayCompressed, datasetPtr, predictBatchSize, total)\n",
    "    base, z, t, l = m.predict(XBatch)\n",
    "    bases.append(base); zs.append(z); ts.append(t); ls.append(l)\n",
    "    datasetPtr += predictBatchSize\n",
    "    if endFlag != 0:\n",
    "        break\n",
    "bases = np.concatenate(bases[:]); zs = np.concatenate(zs[:]); ts = np.concatenate(ts[:]); ls = np.concatenate(ls[:])\n",
    "print >> sys.stderr, \"Prediciton time elapsed: %.2f s\" % (time.time() - predictStart)\n",
    "\n",
    "# Evaluate the trained model\n",
    "YArray, _, _ = utils.DecompressArray(YArrayCompressed, 0, total, total)\n",
    "print >> sys.stderr, \"Version 2 model, evaluation on base change:\"\n",
    "allBaseCount = top1Count = top2Count = 0\n",
    "for predictV, annotateV in zip(bases, YArray[:,0:4]):\n",
    "    allBaseCount += 1\n",
    "    sortPredictV = predictV.argsort()[::-1]\n",
    "    if np.argmax(annotateV) == sortPredictV[0]: top1Count += 1; top2Count += 1\n",
    "    elif np.argmax(annotateV) == sortPredictV[1]: top2Count += 1\n",
    "print >> sys.stderr, \"all/top1/top2/top1p/top2p: %d/%d/%d/%.2f/%.2f\" %\\\n",
    "            (allBaseCount, top1Count, top2Count, float(top1Count)/allBaseCount*100, float(top2Count)/allBaseCount*100)\n",
    "print >> sys.stderr, \"Version 2 model, evaluation on Zygosity:\"\n",
    "ed = np.zeros( (2,2), dtype=np.int )\n",
    "for predictV, annotateV in zip(zs, YArray[:,4:6]):\n",
    "    ed[np.argmax(annotateV)][np.argmax(predictV)] += 1\n",
    "for i in range(2):\n",
    "    print >> sys.stderr, \"\\t\".join([str(ed[i][j]) for j in range(2)])\n",
    "print >> sys.stderr, \"Version 2 model, evaluation on variant type:\"\n",
    "ed = np.zeros( (4,4), dtype=np.int )\n",
    "for predictV, annotateV in zip(ts, YArray[:,6:10]):\n",
    "    ed[np.argmax(annotateV)][np.argmax(predictV)] += 1\n",
    "for i in range(4):\n",
    "    print >> sys.stderr, \"\\t\".join([str(ed[i][j]) for j in range(4)])\n",
    "print >> sys.stderr, \"Version 2 model, evaluation on indel length:\"\n",
    "ed = np.zeros( (6,6), dtype=np.int )\n",
    "for predictV, annotateV in zip(ls, YArray[:,10:16]):\n",
    "    ed[np.argmax(annotateV)][np.argmax(predictV)] += 1\n",
    "for i in range(6):\n",
    "    print >> sys.stderr, \"\\t\".join([str(ed[i][j]) for j in range(6)])"
   ]
  },
  {
   "cell_type": "markdown",
   "metadata": {},
   "source": [
    "## Visualizing predictions"
   ]
  },
  {
   "cell_type": "code",
   "execution_count": 12,
   "metadata": {},
   "outputs": [
    {
     "data": {
      "text/plain": [
       "<matplotlib.image.AxesImage at 0x11d700050>"
      ]
     },
     "execution_count": 12,
     "metadata": {},
     "output_type": "execute_result"
    },
    {
     "data": {
      "image/png": "[encoded data removed]",
      "text/plain": [
       "<matplotlib.figure.Figure at 0x11d6efed0>"
      ]
     },
     "metadata": {},
     "output_type": "display_data"
    },
    {
     "data": {
      "image/png": "[encoded data removed]",
      "text/plain": [
       "<matplotlib.figure.Figure at 0x11d7160d0>"
      ]
     },
     "metadata": {},
     "output_type": "display_data"
    }
   ],
   "source": [
    "# Compare the output of the expected calls and the predicted calls\n",
    "arrayStart = 0\n",
    "arrayEnd = 100\n",
    "figure(figsize=(20, 5))\n",
    "matshow(YArray[arrayStart:arrayEnd,:].transpose(), fignum=0, cmap=cm.PuRd)\n",
    "figure(figsize=(20, 5))\n",
    "matshow(np.concatenate( (bases[arrayStart:arrayEnd,:],zs[arrayStart:arrayEnd,:],\\\n",
    "                         ts[arrayStart:arrayEnd,:],ls[arrayStart:arrayEnd,:]),1).transpose(), fignum=0, cmap=cm.PuRd)"
   ]
  },
  {
   "cell_type": "code",
   "execution_count": null,
   "metadata": {
    "collapsed": true
   },
   "outputs": [],
   "source": []
  }
 ],
 "metadata": {
  "kernelspec": {
   "display_name": "clairvoyante_kernel",
   "language": "python",
   "name": "clairvoyante_kernel"
  },
  "language_info": {
   "codemirror_mode": {
    "name": "ipython",
    "version": 2
   },
   "file_extension": ".py",
   "mimetype": "text/x-python",
   "name": "python",
   "nbconvert_exporter": "python",
   "pygments_lexer": "ipython2",
   "version": "2.7.15"
  }
 },
 "nbformat": 4,
 "nbformat_minor": 2
}
